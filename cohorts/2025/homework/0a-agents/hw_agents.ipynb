{
 "cells": [
  {
   "cell_type": "markdown",
   "id": "8e9547ce",
   "metadata": {},
   "source": [
    "## Preparation\n",
    "\n",
    "First, we'll define a function that we will use when building our agent.\n",
    "\n",
    "It will generate fake weather data:"
   ]
  },
  {
   "cell_type": "code",
   "execution_count": 1,
   "id": "f59fbbb2",
   "metadata": {},
   "outputs": [],
   "source": [
    "import random\n",
    "\n",
    "known_weather_data = {\n",
    "    'berlin': 20.0\n",
    "}\n",
    "\n",
    "def get_weather(city: str) -> float:\n",
    "    city = city.strip().lower()\n",
    "\n",
    "    if city in known_weather_data:\n",
    "        return known_weather_data[city]\n",
    "\n",
    "    return round(random.uniform(-5, 35), 1)"
   ]
  },
  {
   "cell_type": "markdown",
   "id": "a320e3a2",
   "metadata": {},
   "source": [
    "## Q1. Define function description"
   ]
  },
  {
   "cell_type": "code",
   "execution_count": null,
   "id": "83ed029a",
   "metadata": {},
   "outputs": [],
   "source": [
    "# get_weather_tool = {\n",
    "#     \"type\": \"function\",\n",
    "#     \"name\": \"<TODO1>\",\n",
    "#     \"description\": \"<TODO2>\",\n",
    "#     \"parameters\": {\n",
    "#         \"type\": \"object\",\n",
    "#         \"properties\": {\n",
    "#             \"<TODO3>\": {\n",
    "#                 \"type\": \"string\",\n",
    "#                 \"description\": \"<TODO4>\"\n",
    "#             }\n",
    "#         },\n",
    "#         \"required\": [TODO5],\n",
    "#         \"additionalProperties\": False\n",
    "#     }\n",
    "# }\n",
    "\n",
    "get_weather_tool = {\n",
    "    \"type\": \"function\",\n",
    "    \"name\": \"get_weather\",  # TODO1: a concise, unique function name\n",
    "    \"description\": \"Get the current weather for a specified city\",  # TODO2: human-readable summary\n",
    "    \"parameters\": {\n",
    "        \"type\": \"object\",\n",
    "        \"properties\": {\n",
    "            \"city\": {                           # TODO3: Name of property\n",
    "                \"type\": \"string\",\n",
    "                \"description\": \"The name of the city to get weather for\"  # TODO4: explain the parameter\n",
    "            }\n",
    "        },\n",
    "        \"required\": [\"city\"],  # TODO5: list of required params\n",
    "        \"additionalProperties\": False\n",
    "    }\n",
    "}\n"
   ]
  },
  {
   "cell_type": "markdown",
   "id": "a6e40085",
   "metadata": {},
   "source": [
    "TODO1: get_weather   (a concise, unique function name)\n",
    "\n",
    "TODO2: Get the current weather for a specified city   (a nice description)\n",
    "\n",
    "TODO3: city   (a property/attribute relevant for the function)\n",
    "\n",
    "TODO4: The name of the city to get weather for   (Property/Attribute description)\n",
    "\n",
    "TODO5: [\"city\"]   (List of required params)\n"
   ]
  },
  {
   "cell_type": "markdown",
   "id": "dc826616",
   "metadata": {},
   "source": [
    "## Testing it (Optional)\n",
    "If you have OpenAI API Key (or alternative provider), let's test it.\n",
    "A question could be \"What's the weather like in Germany?\"\n",
    "Experiment with different system prompts to have better answers from the system."
   ]
  },
  {
   "cell_type": "markdown",
   "id": "20299ac3",
   "metadata": {},
   "source": [
    "## Q2. Adding another tool\n",
    "\n",
    "Let's add another tool - a function that can add weather data to our database:"
   ]
  },
  {
   "cell_type": "code",
   "execution_count": null,
   "id": "09788969",
   "metadata": {},
   "outputs": [],
   "source": [
    "def set_weather(city: str, temp: float) -> None:\n",
    "    city = city.strip().lower()\n",
    "    known_weather_data[city] = temp\n",
    "    return 'OK'"
   ]
  },
  {
   "cell_type": "code",
   "execution_count": 5,
   "id": "10cbb418",
   "metadata": {},
   "outputs": [],
   "source": [
    "## Description for this tool.\n",
    "set_weather_tool = {\n",
    "    \"type\": \"function\",\n",
    "    \"name\": \"set_weather\",\n",
    "    \"description\": \"Set or update the weather temperature for a given city in the database\",\n",
    "    \"parameters\": {\n",
    "        \"type\": \"object\",\n",
    "        \"properties\": {\n",
    "            \"city\": {\n",
    "                \"type\": \"string\",\n",
    "                \"description\": \"The name of the city to set the weather for\"\n",
    "            },\n",
    "            \"temp\": {\n",
    "                \"type\": \"number\",\n",
    "                \"description\": \"The temperature value in Celsius\"\n",
    "            }\n",
    "        },\n",
    "        \"required\": [\"city\", \"temp\"],\n",
    "        \"additionalProperties\": False\n",
    "    }\n",
    "}\n"
   ]
  },
  {
   "cell_type": "markdown",
   "id": "87485d17",
   "metadata": {},
   "source": [
    "Now let's write a description for it.\n",
    "\n",
    "Optionally, you can test it after adding this function."
   ]
  },
  {
   "cell_type": "markdown",
   "id": "0e9e3529",
   "metadata": {},
   "source": [
    "## MCP\n",
    "MCP stands for Model-Context Protocol. It allows LLMs communicate with different tools (like Qdrant). It's function calling, but one step further:\n",
    "\n",
    "A tool can export a list of functions it has\n",
    "When we include the tool to our Agent, we just need to include the link to the MCP server"
   ]
  },
  {
   "cell_type": "markdown",
   "id": "bddbc414",
   "metadata": {},
   "source": [
    "## Q3. Install FastMCP\n",
    "\n",
    "Let's install a library for MCP - FastMCP\n",
    "\n",
    "What's the version of FastMCP you installed?"
   ]
  },
  {
   "cell_type": "code",
   "execution_count": 4,
   "id": "9a1d3bfb",
   "metadata": {},
   "outputs": [],
   "source": [
    "# !pip install fastmcp"
   ]
  },
  {
   "cell_type": "code",
   "execution_count": 3,
   "id": "55e83a9c",
   "metadata": {},
   "outputs": [
    {
     "name": "stdout",
     "output_type": "stream",
     "text": [
      "Name: fastmcp\n",
      "Version: 2.11.3\n",
      "Summary: The fast, Pythonic way to build MCP servers and clients.\n",
      "Home-page: https://gofastmcp.com\n",
      "Author: Jeremiah Lowin\n",
      "Author-email: \n",
      "License: \n",
      "Location: C:\\Users\\amathew\\OneDrive - CLEVR\\Learning\\Zoomcamp\\LLMzoomcamp\\LLMzoomcamp2025\\llmzoomcamp2025\\Lib\\site-packages\n",
      "Requires: authlib, cyclopts, exceptiongroup, httpx, mcp, openapi-core, openapi-pydantic, pydantic, pyperclip, python-dotenv, rich\n",
      "Required-by: \n"
     ]
    }
   ],
   "source": [
    "!pip show fastmcp"
   ]
  },
  {
   "cell_type": "markdown",
   "id": "8b914e6a",
   "metadata": {},
   "source": [
    "Version of FastMCP: 2.11.3\n",
    "Summary: The fast, Pythonic way to build MCP servers and clients."
   ]
  },
  {
   "cell_type": "markdown",
   "id": "75dfda5d",
   "metadata": {},
   "source": [
    "## Q4. Simple MCP Server\n",
    "A simple MCP server from the documentation looks like that:"
   ]
  },
  {
   "cell_type": "code",
   "execution_count": 14,
   "id": "da91c559",
   "metadata": {},
   "outputs": [],
   "source": [
    "# weather_server.py\n",
    "from fastmcp import FastMCP\n",
    "\n",
    "mcp = FastMCP(\"Demo 🚀\")\n",
    "\n",
    "# @mcp.tool\n",
    "# def add(a: int, b: int) -> int:\n",
    "#     \"\"\"Add two numbers\"\"\"\n",
    "#     return a + b\n",
    "\n",
    "# if __name__ == \"__main__\":\n",
    "#     mcp.run()"
   ]
  },
  {
   "cell_type": "code",
   "execution_count": 17,
   "id": "d6e22cc7",
   "metadata": {},
   "outputs": [
    {
     "data": {
      "text/html": [
       "<pre style=\"white-space:pre;overflow-x:auto;line-height:normal;font-family:Menlo,'DejaVu Sans Mono',consolas,'Courier New',monospace\"><span style=\"color: #7fbfbf; text-decoration-color: #7fbfbf\">[08/12/25 23:31:44] </span><span style=\"color: #808000; text-decoration-color: #808000\">WARNING </span> Tool already exists: get_weather                                   <span style=\"color: #7f7f7f; text-decoration-color: #7f7f7f\">tool_manager.py:169</span>\n",
       "</pre>\n"
      ],
      "text/plain": [
       "\u001b[2;36m[08/12/25 23:31:44]\u001b[0m\u001b[2;36m \u001b[0m\u001b[33mWARNING \u001b[0m Tool already exists: get_weather                                   \u001b[2mtool_manager.py\u001b[0m\u001b[2m:\u001b[0m\u001b[2m169\u001b[0m\n"
      ]
     },
     "metadata": {},
     "output_type": "display_data"
    },
    {
     "data": {
      "text/html": [
       "<pre style=\"white-space:pre;overflow-x:auto;line-height:normal;font-family:Menlo,'DejaVu Sans Mono',consolas,'Courier New',monospace\"><span style=\"color: #7fbfbf; text-decoration-color: #7fbfbf\">                    </span><span style=\"color: #808000; text-decoration-color: #808000\">WARNING </span> Tool already exists: set_weather                                   <span style=\"color: #7f7f7f; text-decoration-color: #7f7f7f\">tool_manager.py:169</span>\n",
       "</pre>\n"
      ],
      "text/plain": [
       "\u001b[2;36m                   \u001b[0m\u001b[2;36m \u001b[0m\u001b[33mWARNING \u001b[0m Tool already exists: set_weather                                   \u001b[2mtool_manager.py\u001b[0m\u001b[2m:\u001b[0m\u001b[2m169\u001b[0m\n"
      ]
     },
     "metadata": {},
     "output_type": "display_data"
    }
   ],
   "source": [
    "@mcp.tool\n",
    "def get_weather(city: str) -> float:\n",
    "    \"\"\"\n",
    "    Retrieves the temperature for a specified city.\n",
    "\n",
    "    Parameters:\n",
    "        city (str): The name of the city for which to retrieve weather data.\n",
    "\n",
    "    Returns:\n",
    "        float: The temperature associated with the city.\n",
    "    \"\"\"\n",
    "    city = city.strip().lower()\n",
    "\n",
    "    if city in known_weather_data:\n",
    "        return known_weather_data[city]\n",
    "\n",
    "    return round(random.uniform(-5, 35), 1)\n",
    "\n",
    "\n",
    "@mcp.tool\n",
    "def set_weather(city: str, temp: float) -> None:\n",
    "    \"\"\"\n",
    "    Sets the temperature for a specified city.\n",
    "\n",
    "    Parameters:\n",
    "        city (str): The name of the city for which to set the weather data.\n",
    "        temp (float): The temperature to associate with the city.\n",
    "\n",
    "    Returns:\n",
    "        str: A confirmation string 'OK' indicating successful update.\n",
    "    \"\"\"\n",
    "    city = city.strip().lower()\n",
    "    known_weather_data[city] = temp\n",
    "    return 'OK'"
   ]
  },
  {
   "cell_type": "code",
   "execution_count": null,
   "id": "b149296e",
   "metadata": {},
   "outputs": [],
   "source": [
    "# In-memory \"database\"\n",
    "# weather_server.py\n",
    "import random\n",
    "from fastmcp import FastMCP\n",
    "\n",
    "known_weather_data = {\"berlin\": 20.0}\n",
    "mcp = FastMCP(\"Demo 🚀\")"
   ]
  },
  {
   "cell_type": "code",
   "execution_count": 20,
   "id": "d23136ac",
   "metadata": {},
   "outputs": [],
   "source": [
    "# Message to get: Starting MCP server 'Demo 🚀' with transport '<TODO>'\n",
    "\n",
    "# if __name__ == \"__main__\":\n",
    "#     mcp.run()"
   ]
  },
  {
   "cell_type": "markdown",
   "id": "b8728dd6",
   "metadata": {},
   "source": [
    "## Q5. Protocol\n",
    "There are different ways to communicate with an MCP server. Ours is currently running using standart input/output, which means that the client write something to stdin and read the answer using stdout.\n",
    "\n",
    "Our weather server is currently running.\n",
    "\n",
    "This is how we start communitcating with it:\n",
    "\n",
    "First, we send an initialization request -- this way, we register our client with the server:\n"
   ]
  },
  {
   "cell_type": "markdown",
   "id": "8e790d2c",
   "metadata": {},
   "source": [
    "Output while running code:\n",
    "\n",
    "\n",
    "\n",
    "╭─ FastMCP 2.0 ──────────────────────────────────────────────────────────────╮\n",
    "│                                                                            │\n",
    "│        _ __ ___ ______           __  __  _____________    ____    ____     │\n",
    "│       _ __ ___ / ____/___ ______/ /_/  |/  / ____/ __ \\  |___ \\  / __ \\    │\n",
    "│      _ __ ___ / /_  / __ `/ ___/ __/ /|_/ / /   / /_/ /  ___/ / / / / /    │\n",
    "│     _ __ ___ / __/ / /_/ (__  ) /_/ /  / / /___/ ____/  /  __/_/ /_/ /     │\n",
    "│    _ __ ___ /_/    \\__,_/____/\\__/_/  /_/\\____/_/      /_____(_)____/      │\n",
    "│                                                                            │\n",
    "│                                                                            │\n",
    "│                                                                            │\n",
    "│    🖥️  Server name:     Demo 🚀                                           │\n",
    "│    📦 Transport:       STDIO                                               │  \n",
    "│                                                                            │\n",
    "│    📚 Docs:            https://gofastmcp.com                               │\n",
    "│    🚀 Deploy:          https://fastmcp.cloud                               │\n",
    "│                                                                            │\n",
    "│    🏎️  FastMCP version: 2.11.3                                             │\n",
    "│    🤝 MCP version:     1.12.4                                              │\n",
    "│                                                                            │\n",
    "╰────────────────────────────────────────────────────────────────────────────╯\n",
    "\n",
    "\n",
    "\n",
    "{\"jsonrpc\": \"2.0\", \"id\": 1, \"method\": \"initialize\", \"params\": {\"protocolVersion\": \"2024-11-05\", \"capabilities\": {\"roots\": {\"listChanged\": true}, \"sampling\": {}}, \"clientInfo\": {\"name\": \"test-client\", \"version\": \"1.0.0\"}}}\n",
    "{\"jsonrpc\":\"2.0\",\"id\":1,\"result\":{\"protocolVersion\":\"2024-11-05\",\"capabilities\":{\"experimental\":{},\"prompts\":{\"listChanged\":false},\"resources\":{\"subscribe\":false,\"listChanged\":false},\"tools\":{\"listChanged\":true}},\"serverInfo\":{\"name\":\"Demo 🚀\",\"version\":\"1.12.4\"}}}\n",
    "{\"jsonrpc\": \"2.0\", \"method\": \"notifications/initialized\"}\n",
    "{\"jsonrpc\": \"2.0\", \"id\": 2, \"method\": \"tools/list\"}\n",
    "{\"jsonrpc\":\"2.0\",\"id\":2,\"result\":{\"tools\":[{\"name\":\"get_weather\",\"description\":\"Retrieves the temperature for a specified city.\\n\\nParameters:\\n    city (str): The name of the city for which to retrieve weather data.\\n\\nReturns:\\n    float: The temperature associated with the city.\",\"inputSchema\":{\"properties\":{\"city\":{\"title\":\"City\",\"type\":\"string\"}},\"required\":[\"city\"],\"type\":\"object\"},\"outputSchema\":{\"properties\":{\"result\":{\"title\":\"Result\",\"type\":\"number\"}},\"required\":[\"result\"],\"title\":\"_WrappedResult\",\"type\":\"object\",\"x-fastmcp-wrap-result\":true},\"_meta\":{\"_fastmcp\":{\"tags\":[]}}},{\"name\":\"set_weather\",\"description\":\"Sets the temperature for a specified city.\\n\\nParameters:\\n    city (str): The name of the city for which to set the weather data.\\n    temp (float): The temperature to associate with the city.\\n\\nReturns:\\n    str: A confirmation string 'OK' indicating successful update.\",\"inputSchema\":{\"properties\":{\"city\":{\"title\":\"City\",\"type\":\"string\"},\"temp\":{\"title\":\"Temp\",\"type\":\"number\"}},\"required\":[\"city\",\"temp\"],\"type\":\"object\"},\"_meta\":{\"_fastmcp\":{\"tags\":[]}}}]}}\n",
    "{\"jsonrpc\":\"2.0\",\"id\":3,\"method\":\"tools/call\", \"params\":{\"name\":\"get_weather\",\"arguments\":{\"city\":\"Berlin\"}}}\n",
    "{\"jsonrpc\":\"2.0\",\"id\":3,\"result\":{\"content\":[{\"type\":\"text\",\"text\":\"20.0\"}],\"structuredContent\":{\"result\":20.0},\"isError\":false}}"
   ]
  },
  {
   "cell_type": "markdown",
   "id": "bfdbc4cf",
   "metadata": {},
   "source": [
    "## Q6. Client\n",
    "\n",
    "We typically don't interact with the server by copy-pasting commands in the terminal.\n",
    "\n",
    "In practice, we use an MCP Client. Let's implement it.\n",
    "\n",
    "FastMCP also supports MCP clients:\n",
    "\n",
    "from fastmcp import Client\n",
    "async def main():\n",
    "    async with Client(<TODO>) as mcp_client:\n",
    "\n",
    "Use the client to get the list of available tools of our script. How does the result look like?\n",
    "\n",
    "If you're running this code in Jupyter, you need to pass an instance of MCP server to the Client:\n",
    "\n",
    "import weather_server\n",
    "async def main():\n",
    "    async with Client(weather_server.mcp) as mcp_client:\n",
    "\n",
    "\n",
    "If you run it in a script, you will need to use asyncio:\n",
    "\n",
    "import asyncio\n",
    "async def main():\n",
    "    async with Client(\"weather_server.py\") as mcp_client:\n",
    "        # ...\n",
    "if __name__ == \"__main__\":\n",
    "    test = asyncio.run(main())\n",
    "\n",
    "\n",
    "Copy the output with the available tools when filling in the homework form."
   ]
  },
  {
   "cell_type": "code",
   "execution_count": null,
   "id": "192c002a",
   "metadata": {},
   "outputs": [
    {
     "ename": "RuntimeError",
     "evalue": "asyncio.run() cannot be called from a running event loop",
     "output_type": "error",
     "traceback": [
      "\u001b[31m---------------------------------------------------------------------------\u001b[39m",
      "\u001b[31mRuntimeError\u001b[39m                              Traceback (most recent call last)",
      "\u001b[36mCell\u001b[39m\u001b[36m \u001b[39m\u001b[32mIn[21]\u001b[39m\u001b[32m, line 12\u001b[39m\n\u001b[32m      9\u001b[39m         \u001b[38;5;28mprint\u001b[39m(tools)\n\u001b[32m     11\u001b[39m \u001b[38;5;28;01mif\u001b[39;00m \u001b[34m__name__\u001b[39m == \u001b[33m\"\u001b[39m\u001b[33m__main__\u001b[39m\u001b[33m\"\u001b[39m:\n\u001b[32m---> \u001b[39m\u001b[32m12\u001b[39m     \u001b[43masyncio\u001b[49m\u001b[43m.\u001b[49m\u001b[43mrun\u001b[49m\u001b[43m(\u001b[49m\u001b[43mmain\u001b[49m\u001b[43m(\u001b[49m\u001b[43m)\u001b[49m\u001b[43m)\u001b[49m\n",
      "\u001b[36mFile \u001b[39m\u001b[32m~\\AppData\\Local\\Programs\\Python\\Python312\\Lib\\asyncio\\runners.py:191\u001b[39m, in \u001b[36mrun\u001b[39m\u001b[34m(main, debug, loop_factory)\u001b[39m\n\u001b[32m    161\u001b[39m \u001b[38;5;250m\u001b[39m\u001b[33;03m\"\"\"Execute the coroutine and return the result.\u001b[39;00m\n\u001b[32m    162\u001b[39m \n\u001b[32m    163\u001b[39m \u001b[33;03mThis function runs the passed coroutine, taking care of\u001b[39;00m\n\u001b[32m   (...)\u001b[39m\u001b[32m    187\u001b[39m \u001b[33;03m    asyncio.run(main())\u001b[39;00m\n\u001b[32m    188\u001b[39m \u001b[33;03m\"\"\"\u001b[39;00m\n\u001b[32m    189\u001b[39m \u001b[38;5;28;01mif\u001b[39;00m events._get_running_loop() \u001b[38;5;129;01mis\u001b[39;00m \u001b[38;5;129;01mnot\u001b[39;00m \u001b[38;5;28;01mNone\u001b[39;00m:\n\u001b[32m    190\u001b[39m     \u001b[38;5;66;03m# fail fast with short traceback\u001b[39;00m\n\u001b[32m--> \u001b[39m\u001b[32m191\u001b[39m     \u001b[38;5;28;01mraise\u001b[39;00m \u001b[38;5;167;01mRuntimeError\u001b[39;00m(\n\u001b[32m    192\u001b[39m         \u001b[33m\"\u001b[39m\u001b[33masyncio.run() cannot be called from a running event loop\u001b[39m\u001b[33m\"\u001b[39m)\n\u001b[32m    194\u001b[39m \u001b[38;5;28;01mwith\u001b[39;00m Runner(debug=debug, loop_factory=loop_factory) \u001b[38;5;28;01mas\u001b[39;00m runner:\n\u001b[32m    195\u001b[39m     \u001b[38;5;28;01mreturn\u001b[39;00m runner.run(main)\n",
      "\u001b[31mRuntimeError\u001b[39m: asyncio.run() cannot be called from a running event loop"
     ]
    }
   ],
   "source": [
    "# # async_client.py\n",
    "# import asyncio\n",
    "# import weather_mcp_server\n",
    "# from fastmcp import Client\n",
    "\n",
    "# async def main():\n",
    "#     async with Client(weather_mcp_server.mcp) as mcp_client:\n",
    "#         tools = await mcp_client.list_tools()\n",
    "#         print(tools)\n",
    "\n",
    "# if __name__ == \"__main__\":\n",
    "#     asyncio.run(main())\n"
   ]
  },
  {
   "cell_type": "code",
   "execution_count": null,
   "id": "6ae6a52f",
   "metadata": {},
   "outputs": [],
   "source": []
  }
 ],
 "metadata": {
  "kernelspec": {
   "display_name": "llmzoomcamp2025 (3.12.9)",
   "language": "python",
   "name": "python3"
  },
  "language_info": {
   "codemirror_mode": {
    "name": "ipython",
    "version": 3
   },
   "file_extension": ".py",
   "mimetype": "text/x-python",
   "name": "python",
   "nbconvert_exporter": "python",
   "pygments_lexer": "ipython3",
   "version": "3.12.9"
  }
 },
 "nbformat": 4,
 "nbformat_minor": 5
}
